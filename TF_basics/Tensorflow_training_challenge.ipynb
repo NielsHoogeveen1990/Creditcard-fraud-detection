{
  "nbformat": 4,
  "nbformat_minor": 0,
  "metadata": {
    "colab": {
      "name": "Tensorflow training challenge.ipynb",
      "provenance": [],
      "authorship_tag": "ABX9TyOpXjZdI2FHpcBKtx53zSVm",
      "include_colab_link": true
    },
    "kernelspec": {
      "name": "python3",
      "display_name": "Python 3"
    },
    "language_info": {
      "name": "python"
    }
  },
  "cells": [
    {
      "cell_type": "markdown",
      "metadata": {
        "id": "view-in-github",
        "colab_type": "text"
      },
      "source": [
        "<a href=\"https://colab.research.google.com/github/NielsHoogeveen1990/Creditcard-fraud-detection/blob/master/TF_basics/Tensorflow_training_challenge.ipynb\" target=\"_parent\"><img src=\"https://colab.research.google.com/assets/colab-badge.svg\" alt=\"Open In Colab\"/></a>"
      ]
    },
    {
      "cell_type": "code",
      "metadata": {
        "id": "D0sZNsakjdsR",
        "outputId": "4158c5f1-d1e0-423b-e1da-9b82da0c04bd",
        "colab": {
          "base_uri": "https://localhost:8080/"
        }
      },
      "source": [
        "# Data downloaden\n",
        "!curl -L -c cookies.txt 'https://docs.google.com/uc?export=download&id=10rV20YQm4-lO8HBkOyzAvDGu0dnTKc_2' | sed -rn 's/.*confirm=([0-9A-Za-z_]+).*/\\1/p' > confirm.txt    \n",
        "!curl -L -b cookies.txt -o 'telecom_clean.csv' 'https://docs.google.com/uc?export=download&id=10rV20YQm4-lO8HBkOyzAvDGu0dnTKc_2&confirm='$(<confirm.txt)\n",
        "!rm -f confirm.txt cookies.txt"
      ],
      "execution_count": 1,
      "outputs": [
        {
          "output_type": "stream",
          "text": [
            "  % Total    % Received % Xferd  Average Speed   Time    Time     Time  Current\n",
            "                                 Dload  Upload   Total   Spent    Left  Speed\n",
            "100   388    0   388    0     0    887      0 --:--:-- --:--:-- --:--:--   887\n",
            "100  741k  100  741k    0     0  1222k      0 --:--:-- --:--:-- --:--:-- 1222k\n",
            "  % Total    % Received % Xferd  Average Speed   Time    Time     Time  Current\n",
            "                                 Dload  Upload   Total   Spent    Left  Speed\n",
            "100   408    0   408    0     0   1043      0 --:--:-- --:--:-- --:--:--  1043\n",
            "  0     0    0     0    0     0      0      0 --:--:-- --:--:-- --:--:--     0\n",
            "  0     0    0     0    0     0      0      0 --:--:-- --:--:-- --:--:--     0\n",
            "100  741k  100  741k    0     0  1312k      0 --:--:-- --:--:-- --:--:-- 1312k\n"
          ],
          "name": "stdout"
        }
      ]
    },
    {
      "cell_type": "code",
      "metadata": {
        "id": "jCqG1CFfzpDI"
      },
      "source": [
        ""
      ],
      "execution_count": null,
      "outputs": []
    }
  ]
}